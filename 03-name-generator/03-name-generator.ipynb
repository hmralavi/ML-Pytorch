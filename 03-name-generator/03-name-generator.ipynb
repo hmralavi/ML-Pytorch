{
 "cells": [
  {
   "cell_type": "code",
   "execution_count": 1,
   "metadata": {},
   "outputs": [
    {
     "name": "stdout",
     "output_type": "stream",
     "text": [
      "using: cuda\n"
     ]
    }
   ],
   "source": [
    "import torch\n",
    "import os\n",
    "import random\n",
    "import string\n",
    "\n",
    "device = torch.device('cuda') if torch.cuda.is_available() else torch.device('cpu')\n",
    "print(f\"using: {device}\")"
   ]
  },
  {
   "cell_type": "code",
   "execution_count": 19,
   "metadata": {},
   "outputs": [],
   "source": [
    "class NamesDataset(torch.utils.data.Dataset):\n",
    "    def __init__(self, dataset_path: str, test: bool):\n",
    "        names = []\n",
    "        max_name_len = 0\n",
    "        with open(os.path.join(dataset_path, \"English.txt\"), \"r\", encoding=\"utf-8\") as f:\n",
    "            for line in f:\n",
    "                name = line.strip().lower()\n",
    "                name = f\"<{name}>\"\n",
    "                max_name_len = max(max_name_len, len(name))\n",
    "                names.append(name)\n",
    "\n",
    "        random.seed(42)\n",
    "        random.shuffle(names)\n",
    "        \n",
    "        x = []\n",
    "        y = []\n",
    "        for name in names:\n",
    "            for i in range(1, len(name)):\n",
    "                name_subset = name[:i+1]\n",
    "                if name_subset == name:\n",
    "                    y.append(\" \")\n",
    "                else:\n",
    "                    y.append(name[i+1])\n",
    "                name_subset = self.padding(name_subset, max_name_len)\n",
    "                x.append(name_subset)\n",
    "        \n",
    "        self.xy = list(zip(x, y))\n",
    "\n",
    "    def __getitem__(self, idx):\n",
    "        x_str, y_str = self.xy[idx]\n",
    "        x = self.name2tensor(x_str).to(device=device)\n",
    "        y = self.name2tensor(y_str).to(device=device)\n",
    "        y.squeeze_()\n",
    "\n",
    "        return x, y, 1\n",
    "    \n",
    "    def __len__(self):\n",
    "        return len(self.xy)\n",
    "    \n",
    "    @staticmethod\n",
    "    def padding(x: str, target_len):\n",
    "        required_padding = target_len - len(x)\n",
    "        if required_padding:\n",
    "            # left_pad = random.randint(0, required_padding)\n",
    "            left_pad = required_padding  # put all paddings to the left\n",
    "            right_pad = required_padding - left_pad\n",
    "            x_padded = left_pad * \" \" + x + right_pad * \" \"\n",
    "            assert len(x_padded)==target_len, \"padding has gone wrong!\"\n",
    "            return x_padded\n",
    "        else:\n",
    "            return x\n",
    "\n",
    "    @staticmethod\n",
    "    def name2tensor(name):\n",
    "        all_letters = \" \" + string.ascii_letters[:26] + \"<>\"\n",
    "        tensor = torch.zeros(len(name), len(all_letters))\n",
    "        for i, char in enumerate(name):\n",
    "            tensor[i, all_letters.find(char)] = 1\n",
    "        return tensor\n",
    "    \n",
    "    @staticmethod\n",
    "    def tensor2name(tensor):\n",
    "        all_letters = \" \" + string.ascii_letters[:26]  + \"<>\"\n",
    "        name = \"\"\n",
    "        for row in tensor:\n",
    "            name += all_letters[row.argmax(-1).item()]\n",
    "        return name\n",
    "\n",
    "ds = NamesDataset(dataset_path=\"../datasets/names/\", test=False)\n",
    "ds_loader = torch.utils.data.DataLoader(ds, batch_size=512, shuffle=False)"
   ]
  },
  {
   "cell_type": "code",
   "execution_count": 3,
   "metadata": {},
   "outputs": [],
   "source": [
    "class RNNModel(torch.nn.Module):\n",
    "    def __init__(self, feat_size, hidden_size, num_layers):\n",
    "        super().__init__()\n",
    "        self.hidden_size = hidden_size\n",
    "        self.num_layers = num_layers\n",
    "\n",
    "        self.i2r = torch.nn.RNN(feat_size, hidden_size, num_layers, batch_first=True)\n",
    "        self.r2o = torch.nn.Linear(hidden_size, feat_size)\n",
    "        \n",
    "        self.softmax = torch.nn.LogSoftmax(dim=-1)\n",
    "        \n",
    "    def forward(self, X):\n",
    "        \"\"\"\n",
    "        \n",
    "        Args:\n",
    "            X (Tensor): input tensor, shape: [nbatches, ncharacters, len_character_tensor]\n",
    "\n",
    "        Returns:\n",
    "            Tensor: output tenosr, shape: [nbatches, nclasses]\n",
    "        \"\"\"\n",
    "        hidden = torch.zeros(self.num_layers, X.shape[0], self.hidden_size, device=device)\n",
    "        out, _ = self.i2r(X, hidden)\n",
    "        out = self.r2o(out[:,-1,:])\n",
    "        out = self.softmax(out)\n",
    "        return out\n",
    "\n",
    "rnn = RNNModel(26+1+2, 100, 1).to(device=device)"
   ]
  },
  {
   "cell_type": "code",
   "execution_count": 4,
   "metadata": {},
   "outputs": [],
   "source": [
    "lossfn = torch.nn.CrossEntropyLoss()\n",
    "optimizer = torch.optim.Adam(rnn.parameters(), lr=0.005)\n",
    "\n",
    "def train_one_batch(X, Y):\n",
    "    \"\"\"\n",
    "    do one step training.\n",
    "    Args:\n",
    "        X (Tensor): input tensors.\n",
    "        Y (Tensor): one-hot encoded target tensors.\n",
    "\n",
    "    Returns:\n",
    "        float: loss value.\n",
    "    \"\"\"\n",
    "    optimizer.zero_grad()\n",
    "    output = rnn(X)\n",
    "    loss = lossfn(output, Y)\n",
    "    loss.backward()\n",
    "    optimizer.step()\n",
    "    return loss.item()\n",
    "\n",
    "def eval(X, Y):\n",
    "    \"\"\"\n",
    "    returns the accurace of the rnn model.\n",
    "    Args:\n",
    "        X (Tensor): input tensors.\n",
    "        Y (Tensor): one-hot encoded target tensors.\n",
    "    Returns:\n",
    "        float: loss, accuracy.\n",
    "    \"\"\"\n",
    "\n",
    "    with torch.no_grad():\n",
    "        output = rnn(X)\n",
    "        val_loss = lossfn(output, Y).item()\n",
    "\n",
    "    return val_loss"
   ]
  },
  {
   "cell_type": "code",
   "execution_count": 5,
   "metadata": {},
   "outputs": [
    {
     "name": "stdout",
     "output_type": "stream",
     "text": [
      "epoch\t\tbatch\t\ttraining loss\n",
      "----------------------------------------------\n",
      "1\t\t53/53\t\t2.53\n",
      "2\t\t53/53\t\t1.95\n",
      "3\t\t53/53\t\t1.83\n",
      "4\t\t53/53\t\t1.78\n",
      "5\t\t53/53\t\t1.74\n",
      "6\t\t53/53\t\t1.71\n",
      "7\t\t53/53\t\t1.68\n",
      "8\t\t53/53\t\t1.66\n",
      "9\t\t53/53\t\t1.64\n",
      "10\t\t53/53\t\t1.61\n"
     ]
    }
   ],
   "source": [
    "n_epochs = 10\n",
    "print(\"epoch\\t\\tbatch\\t\\ttraining loss\")\n",
    "print(\"----------------------------------------------\")\n",
    "train_loss = []\n",
    "for epoch in range(n_epochs):\n",
    "    train_loss.append(0)\n",
    "    ibatch = 0\n",
    "    all_batches = len(ds_loader)\n",
    "    for X, Y in ds_loader:\n",
    "        ibatch += 1\n",
    "        train_loss[-1] += train_one_batch(X, Y)\n",
    "        print(f\"{epoch+1}\\t\\t{ibatch}/{all_batches}\\t\\t{train_loss[-1]/all_batches:.2f}\", end=\"\\r\")\n",
    "    print()"
   ]
  },
  {
   "cell_type": "code",
   "execution_count": 15,
   "metadata": {},
   "outputs": [],
   "source": [
    "def generate_name(start_str):\n",
    "    pred = \"\"\n",
    "    result = start_str\n",
    "    while pred != \">\":\n",
    "        input = ds.name2tensor(result).to(device=device)\n",
    "        input.unsqueeze_(0)\n",
    "        pred = rnn(input)\n",
    "        pred = ds.tensor2name(pred).strip()\n",
    "        result += pred\n",
    "        yield result\n"
   ]
  },
  {
   "cell_type": "code",
   "execution_count": 18,
   "metadata": {},
   "outputs": [
    {
     "name": "stdout",
     "output_type": "stream",
     "text": [
      "<oggerson>\r"
     ]
    }
   ],
   "source": [
    "import time\n",
    "for res in generate_name(\"<og\"):\n",
    "    print(res, end=\"\\r\")\n",
    "    time.sleep(0.3)"
   ]
  },
  {
   "cell_type": "code",
   "execution_count": null,
   "metadata": {},
   "outputs": [],
   "source": []
  }
 ],
 "metadata": {
  "kernelspec": {
   "display_name": ".venv",
   "language": "python",
   "name": "python3"
  },
  "language_info": {
   "codemirror_mode": {
    "name": "ipython",
    "version": 3
   },
   "file_extension": ".py",
   "mimetype": "text/x-python",
   "name": "python",
   "nbconvert_exporter": "python",
   "pygments_lexer": "ipython3",
   "version": "3.11.8"
  }
 },
 "nbformat": 4,
 "nbformat_minor": 2
}
