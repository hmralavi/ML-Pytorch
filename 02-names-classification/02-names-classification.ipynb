{
 "cells": [
  {
   "cell_type": "markdown",
   "metadata": {},
   "source": [
    "In this example, we use RNN to classify names into 18 nationality categories.\n",
    "Dataset: https://download.pytorch.org/tutorial/data.zip"
   ]
  },
  {
   "cell_type": "code",
   "execution_count": 1,
   "metadata": {},
   "outputs": [
    {
     "name": "stdout",
     "output_type": "stream",
     "text": [
      "cuda\n"
     ]
    }
   ],
   "source": [
    "import torch\n",
    "import os\n",
    "import random\n",
    "import string\n",
    "\n",
    "device = torch.device('cuda') if torch.cuda.is_available() else torch.device('cpu')\n",
    "print(device)"
   ]
  },
  {
   "cell_type": "code",
   "execution_count": 2,
   "metadata": {},
   "outputs": [],
   "source": [
    "class NamesDataset(torch.utils.data.Dataset):\n",
    "    def __init__(self, dataset_path: str, test: bool):\n",
    "        xy = []\n",
    "        classes = {}\n",
    "        max_name_len = 0\n",
    "        for i, fname in enumerate(os.listdir(dataset_path)):\n",
    "            classes[i] = os.path.splitext(fname)[0]\n",
    "            with open(os.path.join(dataset_path, fname), \"r\", encoding=\"utf-8\") as f:\n",
    "                for line in f:\n",
    "                    name = line.strip().lower()\n",
    "                    max_name_len = max(max_name_len, len(name))\n",
    "                    xy.append((name, i))\n",
    "\n",
    "        random.seed(42)\n",
    "        random.shuffle(xy)\n",
    "        \n",
    "        if test:\n",
    "            self.xy = xy[int(0.8*len(xy)):]\n",
    "        else:\n",
    "            self.xy = xy[:int(0.8*len(xy))]\n",
    "        self.classes = classes\n",
    "        self.max_name_len = max_name_len\n",
    "\n",
    "    def __getitem__(self, idx):\n",
    "        x_str, y_int = self.xy[idx]\n",
    "        x_str = self.padding(x_str, self.max_name_len)\n",
    "        x = self.name2tensor(x_str).to(device=device)\n",
    "        y = torch.zeros(len(self.classes), device=device)\n",
    "        y[y_int] = 1\n",
    "\n",
    "        return x, y\n",
    "    \n",
    "    def __len__(self):\n",
    "        return len(self.xy)\n",
    "    \n",
    "    @staticmethod\n",
    "    def padding(x: str, target_len):\n",
    "        required_padding = target_len - len(x)\n",
    "        if required_padding:\n",
    "            # left_pad = random.randint(0, required_padding)\n",
    "            left_pad = required_padding\n",
    "            right_pad = required_padding - left_pad\n",
    "            x_padded = left_pad * \" \" + x + right_pad * \" \"\n",
    "            assert len(x_padded)==target_len, \"padding has gone wrong!\"\n",
    "            return x_padded\n",
    "        else:\n",
    "            return x\n",
    "\n",
    "    @staticmethod\n",
    "    def name2tensor(name):\n",
    "        all_letters = string.ascii_letters[:26] + \" \"\n",
    "        tensor = torch.zeros(len(name), len(all_letters))\n",
    "        for i, char in enumerate(name):\n",
    "            tensor[i, all_letters.find(char)] = 1\n",
    "        return tensor\n",
    "    \n",
    "    @staticmethod\n",
    "    def tensor2name(tensor):\n",
    "        all_letters = string.ascii_letters[:26]  + \" \"\n",
    "        name = \"\"\n",
    "        for row in tensor:\n",
    "            name += all_letters[row.argmax().item()]\n",
    "        return name\n",
    "\n",
    "ds_train = NamesDataset(dataset_path=\"../datasets/names/\", test=False)\n",
    "ds_test = NamesDataset(dataset_path=\"../datasets/names/\", test=True)\n",
    "ds_train_loader = torch.utils.data.DataLoader(ds_train, batch_size=512, shuffle=False)\n",
    "ds_test_loader = torch.utils.data.DataLoader(ds_test, batch_size=len(ds_test), shuffle=False)"
   ]
  },
  {
   "cell_type": "code",
   "execution_count": 3,
   "metadata": {},
   "outputs": [],
   "source": [
    "class RNNModel(torch.nn.Module):\n",
    "    def __init__(self, input_size, hidden_size, output_size):\n",
    "        super(RNNModel, self).__init__()\n",
    "        self.hidden_size = hidden_size\n",
    "        self.i2h = torch.nn.Linear(input_size, hidden_size)\n",
    "        self.h2h = torch.nn.Linear(hidden_size, hidden_size)\n",
    "        self.h2o = torch.nn.Linear(hidden_size, output_size)\n",
    "        self.softmax = torch.nn.LogSoftmax(dim=-1)\n",
    "    \n",
    "    def forward(self, input, hidden):\n",
    "        hidden = torch.nn.functional.tanh(self.i2h(input) + self.h2h(hidden))\n",
    "        output = self.h2o(hidden)\n",
    "        output = self.softmax(output)\n",
    "        return output, hidden\n",
    "\n",
    "    def initHidden(self):\n",
    "        return torch.zeros(1, self.hidden_size, device=device)\n",
    "\n",
    "rnn = RNNModel(27, 128, 18).to(device=device)"
   ]
  },
  {
   "cell_type": "code",
   "execution_count": null,
   "metadata": {},
   "outputs": [],
   "source": [
    "rnn.load_state_dict(torch.load(\"rnn_weights.pth\"))"
   ]
  },
  {
   "cell_type": "code",
   "execution_count": 4,
   "metadata": {},
   "outputs": [
    {
     "name": "stdout",
     "output_type": "stream",
     "text": [
      "torch.Size([512, 20, 27])\n",
      "torch.Size([512, 27])\n",
      "torch.Size([512, 128])\n",
      "torch.Size([512, 18])\n"
     ]
    }
   ],
   "source": [
    "with torch.no_grad():\n",
    "    X, Y = next(iter(ds_train_loader)) # one batch\n",
    "    hidden = rnn.initHidden()\n",
    "    for i in range(X.shape[1]):\n",
    "        x = X[:, i, :]\n",
    "        output, hidden = rnn(x, hidden)\n",
    "\n",
    "print(X.shape)\n",
    "print(x.shape)\n",
    "print(hidden.shape)\n",
    "print(output.shape)"
   ]
  },
  {
   "cell_type": "code",
   "execution_count": 5,
   "metadata": {},
   "outputs": [],
   "source": [
    "lossfn = torch.nn.CrossEntropyLoss()\n",
    "optimizer = torch.optim.Adam(rnn.parameters(), lr=0.005)\n",
    "\n",
    "def train_one_batch(X, Y):\n",
    "    \"\"\"\n",
    "    do one step training.\n",
    "    Args:\n",
    "        X (Tensor): input tensors.\n",
    "        Y (Tensor): one-hot encoded target tensors.\n",
    "\n",
    "    Returns:\n",
    "        float: loss value.\n",
    "    \"\"\"\n",
    "    optimizer.zero_grad()\n",
    "    hidden = rnn.initHidden()\n",
    "    for i in range(X.shape[1]):\n",
    "        x = X[:, i, :]\n",
    "        output, hidden = rnn(x, hidden)\n",
    "    loss = lossfn(output, Y)\n",
    "    loss.backward()\n",
    "    optimizer.step()\n",
    "    return loss.item()\n",
    "\n",
    "def eval(X, Y):\n",
    "    \"\"\"\n",
    "    returns the accurace of the rnn model.\n",
    "    Args:\n",
    "        X (Tensor): input tensors.\n",
    "        Y (Tensor): one-hot encoded target tensors.\n",
    "    Returns:\n",
    "        float: loss, accuracy.\n",
    "    \"\"\"\n",
    "\n",
    "    with torch.no_grad():\n",
    "        hidden = rnn.initHidden()\n",
    "        for i in range(X.shape[1]):\n",
    "            x = X[:, i, :]\n",
    "            output, hidden = rnn(x, hidden)\n",
    "        val_loss = lossfn(output, Y)\n",
    "        matched = (output.argmax(-1) == Y.argmax(-1))\n",
    "        matched = matched.sum()\n",
    "    \n",
    "    accuracy = matched / X.shape[0]\n",
    "    val_loss = val_loss\n",
    "    return val_loss, accuracy\n",
    "        "
   ]
  },
  {
   "cell_type": "code",
   "execution_count": 7,
   "metadata": {},
   "outputs": [
    {
     "name": "stdout",
     "output_type": "stream",
     "text": [
      "epoch\t\tbatch\t\ttraining loss\t\tval loss\t\tval accuracy\n",
      "----------------------------------------------------------------------------------------------\n",
      "1\t\t32/32\t\t28.27\t\t\t0.92\t\t\t71.31%\n",
      "2\t\t32/32\t\t27.30\t\t\t0.89\t\t\t71.76%\n",
      "3\t\t32/32\t\t27.05\t\t\t0.88\t\t\t73.00%\n",
      "4\t\t32/32\t\t25.93\t\t\t0.82\t\t\t74.99%\n",
      "5\t\t32/32\t\t24.28\t\t\t0.81\t\t\t75.34%\n",
      "6\t\t32/32\t\t23.53\t\t\t0.78\t\t\t76.44%\n",
      "7\t\t32/32\t\t22.60\t\t\t0.76\t\t\t77.11%\n",
      "8\t\t32/32\t\t21.93\t\t\t0.74\t\t\t77.41%\n",
      "9\t\t32/32\t\t21.18\t\t\t0.73\t\t\t77.88%\n",
      "10\t\t32/32\t\t20.69\t\t\t0.73\t\t\t78.03%\n"
     ]
    }
   ],
   "source": [
    "n_epochs = 10\n",
    "print(\"epoch\\t\\tbatch\\t\\ttraining loss\\t\\tval loss\\t\\tval accuracy\")\n",
    "print(\"----------------------------------------------------------------------------------------------\")\n",
    "for epoch in range(n_epochs):\n",
    "    train_loss = 0\n",
    "    ibatch = 0\n",
    "    all_batches = len(ds_train_loader)\n",
    "    for X, Y in ds_train_loader:\n",
    "        ibatch += 1\n",
    "        train_loss += train_one_batch(X, Y)\n",
    "        print(f\"{epoch+1}\\t\\t{ibatch}/{all_batches}\\t\\t{train_loss:.2f}\", end=\"\\r\")\n",
    "    X, Y = next(iter(ds_test_loader))\n",
    "    val_loss, val_accuracy = eval(X, Y)\n",
    "    print(f\"{epoch+1}\\t\\t{ibatch}/{all_batches}\\t\\t{train_loss:.2f}\\t\\t\\t{val_loss:0.2f}\\t\\t\\t{100*val_accuracy:0.2f}%\")\n",
    "        "
   ]
  },
  {
   "cell_type": "code",
   "execution_count": 8,
   "metadata": {},
   "outputs": [],
   "source": [
    "torch.save(rnn.state_dict(), \"rnn_weights.pth\")"
   ]
  },
  {
   "cell_type": "code",
   "execution_count": 24,
   "metadata": {},
   "outputs": [
    {
     "name": "stdout",
     "output_type": "stream",
     "text": [
      "name: tseiner / pred: Russian / gt: Russian\n"
     ]
    }
   ],
   "source": [
    "with torch.no_grad():\n",
    "    x, y = ds_test[300]\n",
    "    hidden = rnn.initHidden()\n",
    "    for i in range(x.shape[0]):\n",
    "        output, hidden = rnn(x[i, :], hidden)\n",
    "    print(f\"name: {ds_test.tensor2name(x).strip()} / pred: {ds_test.classes[output.argmax().item()]} / gt: {ds_test.classes[y.argmax().item()]}\")"
   ]
  },
  {
   "cell_type": "code",
   "execution_count": null,
   "metadata": {},
   "outputs": [],
   "source": []
  }
 ],
 "metadata": {
  "kernelspec": {
   "display_name": ".venv",
   "language": "python",
   "name": "python3"
  },
  "language_info": {
   "codemirror_mode": {
    "name": "ipython",
    "version": 3
   },
   "file_extension": ".py",
   "mimetype": "text/x-python",
   "name": "python",
   "nbconvert_exporter": "python",
   "pygments_lexer": "ipython3",
   "version": "3.11.8"
  }
 },
 "nbformat": 4,
 "nbformat_minor": 2
}
